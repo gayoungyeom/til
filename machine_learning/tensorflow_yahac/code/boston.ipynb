{
 "cells": [
  {
   "cell_type": "code",
   "execution_count": 1,
   "metadata": {},
   "outputs": [],
   "source": [
    "# 라이브러리 사용\n",
    "import tensorflow as tf\n",
    "import pandas as pd"
   ]
  },
  {
   "cell_type": "code",
   "execution_count": 2,
   "metadata": {},
   "outputs": [
    {
     "name": "stdout",
     "output_type": "stream",
     "text": [
      "Index(['crim', 'zn', 'indus', 'chas', 'nox', 'rm', 'age', 'dis', 'rad', 'tax',\n",
      "       'ptratio', 'b', 'lstat', 'medv'],\n",
      "      dtype='object')\n"
     ]
    }
   ],
   "source": [
    "# 1. 과거 데이터 준비\n",
    "url = 'https://raw.githubusercontent.com/blackdew/tensorflow1/master/csv/boston.csv'\n",
    "boston = pd.read_csv(url)\n",
    "print(boston.columns)"
   ]
  },
  {
   "cell_type": "code",
   "execution_count": 3,
   "metadata": {},
   "outputs": [],
   "source": [
    "# 독립변수, 종속변수 분리\n",
    "independent = boston[['crim', 'zn', 'indus', 'chas', 'nox', 'rm', 'age', 'dis', 'rad', 'tax',\n",
    "       'ptratio', 'b', 'lstat']]\n",
    "dependent = boston[['medv']]"
   ]
  },
  {
   "cell_type": "code",
   "execution_count": 4,
   "metadata": {},
   "outputs": [],
   "source": [
    "# 2. 모델 구조 만들기\n",
    "x = tf.keras.layers.Input(shape=[13])\n",
    "y = tf.keras.layers.Dense(1)(x)\n",
    "model = tf.keras.models.Model(x, y)\n",
    "model.compile(loss='mse')"
   ]
  },
  {
   "cell_type": "code",
   "execution_count": 5,
   "metadata": {},
   "outputs": [
    {
     "name": "stdout",
     "output_type": "stream",
     "text": [
      "Train on 506 samples\n",
      "Epoch 1/10\n",
      "506/506 [==============================] - 0s 175us/sample - loss: 27.1680\n",
      "Epoch 2/10\n",
      "506/506 [==============================] - 0s 162us/sample - loss: 26.7929\n",
      "Epoch 3/10\n",
      "506/506 [==============================] - 0s 150us/sample - loss: 27.1598\n",
      "Epoch 4/10\n",
      "506/506 [==============================] - 0s 152us/sample - loss: 26.5356\n",
      "Epoch 5/10\n",
      "506/506 [==============================] - 0s 185us/sample - loss: 26.4901\n",
      "Epoch 6/10\n",
      "506/506 [==============================] - 0s 110us/sample - loss: 26.5177\n",
      "Epoch 7/10\n",
      "506/506 [==============================] - 0s 95us/sample - loss: 26.9040\n",
      "Epoch 8/10\n",
      "506/506 [==============================] - 0s 95us/sample - loss: 27.0181\n",
      "Epoch 9/10\n",
      "506/506 [==============================] - 0s 87us/sample - loss: 26.9347\n",
      "Epoch 10/10\n",
      "506/506 [==============================] - 0s 95us/sample - loss: 26.9355\n"
     ]
    },
    {
     "data": {
      "text/plain": [
       "<tensorflow.python.keras.callbacks.History at 0x2d1c29422c8>"
      ]
     },
     "execution_count": 5,
     "metadata": {},
     "output_type": "execute_result"
    }
   ],
   "source": [
    "# 3. 모델 학습하기\n",
    "model.fit(independent, dependent, epochs=1000, verbose=0)\n",
    "model.fit(independent, dependent, epochs=10)"
   ]
  },
  {
   "cell_type": "code",
   "execution_count": 6,
   "metadata": {},
   "outputs": [
    {
     "name": "stdout",
     "output_type": "stream",
     "text": [
      "[[28.730505]\n",
      " [24.196058]\n",
      " [29.773136]\n",
      " [29.184177]\n",
      " [28.509325]]\n"
     ]
    }
   ],
   "source": [
    "# 4. 모델 이용하기\n",
    "print(model.predict(independent[:5]))"
   ]
  },
  {
   "cell_type": "code",
   "execution_count": 7,
   "metadata": {},
   "outputs": [
    {
     "name": "stdout",
     "output_type": "stream",
     "text": [
      "   medv\n",
      "0  24.0\n",
      "1  21.6\n",
      "2  34.7\n",
      "3  33.4\n",
      "4  36.2\n"
     ]
    }
   ],
   "source": [
    "# 종속변수 확인하기\n",
    "print(dependent[:5])"
   ]
  },
  {
   "cell_type": "code",
   "execution_count": 8,
   "metadata": {},
   "outputs": [
    {
     "name": "stdout",
     "output_type": "stream",
     "text": [
      "[array([[-0.08872648],\n",
      "       [ 0.07656813],\n",
      "       [-0.05918592],\n",
      "       [ 3.3386855 ],\n",
      "       [ 2.040644  ],\n",
      "       [ 3.8112566 ],\n",
      "       [ 0.01791806],\n",
      "       [-0.86849135],\n",
      "       [ 0.14253354],\n",
      "       [-0.01008316],\n",
      "       [ 0.06636233],\n",
      "       [ 0.0157325 ],\n",
      "       [-0.59652644]], dtype=float32), array([2.2697628], dtype=float32)]\n"
     ]
    }
   ],
   "source": [
    "# 모델의 수식 확인하기\n",
    "print(model.get_weights())"
   ]
  }
 ],
 "metadata": {
  "kernelspec": {
   "display_name": "Python 3",
   "language": "python",
   "name": "python3"
  },
  "language_info": {
   "codemirror_mode": {
    "name": "ipython",
    "version": 3
   },
   "file_extension": ".py",
   "mimetype": "text/x-python",
   "name": "python",
   "nbconvert_exporter": "python",
   "pygments_lexer": "ipython3",
   "version": "3.7.7"
  }
 },
 "nbformat": 4,
 "nbformat_minor": 4
}
