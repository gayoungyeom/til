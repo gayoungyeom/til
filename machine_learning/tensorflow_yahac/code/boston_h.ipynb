{
 "cells": [
  {
   "cell_type": "code",
   "execution_count": 1,
   "metadata": {},
   "outputs": [],
   "source": [
    "# 라이브러리 사용\n",
    "import tensorflow as tf\n",
    "import pandas as pd\n",
    "import efficientnet.tfkeras"
   ]
  },
  {
   "cell_type": "code",
   "execution_count": 2,
   "metadata": {},
   "outputs": [
    {
     "name": "stdout",
     "output_type": "stream",
     "text": [
      "Index(['crim', 'zn', 'indus', 'chas', 'nox', 'rm', 'age', 'dis', 'rad', 'tax',\n",
      "       'ptratio', 'b', 'lstat', 'medv'],\n",
      "      dtype='object')\n"
     ]
    }
   ],
   "source": [
    "# 1. 과거 데이터 준비\n",
    "url = 'https://raw.githubusercontent.com/blackdew/tensorflow1/master/csv/boston.csv'\n",
    "boston = pd.read_csv(url)\n",
    "print(boston.columns)"
   ]
  },
  {
   "cell_type": "code",
   "execution_count": 3,
   "metadata": {},
   "outputs": [],
   "source": [
    "# 독립변수, 종속변수 분리\n",
    "independent = boston[['crim', 'zn', 'indus', 'chas', 'nox', 'rm', 'age', 'dis', 'rad', 'tax',\n",
    "       'ptratio', 'b', 'lstat']]\n",
    "dependent = boston[['medv']]"
   ]
  },
  {
   "cell_type": "code",
   "execution_count": 4,
   "metadata": {},
   "outputs": [],
   "source": [
    "# 2. 모델 구조 만들기\n",
    "x = tf.keras.layers.Input(shape=[13])\n",
    "h = tf.keras.layers.Dense(10, activation='swish')(x)\n",
    "y = tf.keras.layers.Dense(1)(h)\n",
    "model = tf.keras.models.Model(x, y)\n",
    "model.compile(loss='mse')"
   ]
  },
  {
   "cell_type": "code",
   "execution_count": 5,
   "metadata": {},
   "outputs": [
    {
     "name": "stdout",
     "output_type": "stream",
     "text": [
      "Train on 506 samples\n",
      "Epoch 1/10\n",
      "506/506 [==============================] - 0s 98us/sample - loss: 24.6268\n",
      "Epoch 2/10\n",
      "506/506 [==============================] - 0s 91us/sample - loss: 23.4753\n",
      "Epoch 3/10\n",
      "506/506 [==============================] - 0s 89us/sample - loss: 23.6633\n",
      "Epoch 4/10\n",
      "506/506 [==============================] - 0s 91us/sample - loss: 24.9686\n",
      "Epoch 5/10\n",
      "506/506 [==============================] - 0s 91us/sample - loss: 23.0611\n",
      "Epoch 6/10\n",
      "506/506 [==============================] - 0s 100us/sample - loss: 23.9931\n",
      "Epoch 7/10\n",
      "506/506 [==============================] - 0s 99us/sample - loss: 23.4138\n",
      "Epoch 8/10\n",
      "506/506 [==============================] - 0s 99us/sample - loss: 24.4251\n",
      "Epoch 9/10\n",
      "506/506 [==============================] - 0s 93us/sample - loss: 24.6509\n",
      "Epoch 10/10\n",
      "506/506 [==============================] - 0s 95us/sample - loss: 23.0071\n"
     ]
    },
    {
     "data": {
      "text/plain": [
       "<tensorflow.python.keras.callbacks.History at 0x1e1a8613b08>"
      ]
     },
     "execution_count": 5,
     "metadata": {},
     "output_type": "execute_result"
    }
   ],
   "source": [
    "# 3. 모델 학습하기\n",
    "model.fit(independent, dependent, epochs=1000, verbose=0)\n",
    "model.fit(independent, dependent, epochs=10)"
   ]
  },
  {
   "cell_type": "code",
   "execution_count": 6,
   "metadata": {},
   "outputs": [
    {
     "name": "stdout",
     "output_type": "stream",
     "text": [
      "[[31.478216]\n",
      " [20.984419]\n",
      " [29.13555 ]\n",
      " [34.974068]\n",
      " [33.262436]]\n"
     ]
    }
   ],
   "source": [
    "# 4. 모델 이용하기\n",
    "print(model.predict(independent[:5]))"
   ]
  },
  {
   "cell_type": "code",
   "execution_count": 7,
   "metadata": {},
   "outputs": [
    {
     "name": "stdout",
     "output_type": "stream",
     "text": [
      "   medv\n",
      "0  24.0\n",
      "1  21.6\n",
      "2  34.7\n",
      "3  33.4\n",
      "4  36.2\n"
     ]
    }
   ],
   "source": [
    "# 종속변수 확인하기\n",
    "print(dependent[:5])"
   ]
  },
  {
   "cell_type": "code",
   "execution_count": 8,
   "metadata": {},
   "outputs": [
    {
     "name": "stdout",
     "output_type": "stream",
     "text": [
      "[array([[ 2.03368887e-01,  5.14035642e-01, -2.22586066e-01,\n",
      "         9.72192168e-01,  2.45373115e-01,  1.77023053e-01,\n",
      "         4.62539792e-01, -2.18409464e-01, -3.12408417e-01,\n",
      "        -2.04878181e-01],\n",
      "       [ 2.96691786e-02, -3.02290976e-01, -1.49056599e-01,\n",
      "         5.31242602e-02,  4.95403647e-01,  2.39482880e-01,\n",
      "        -6.85700972e-04, -1.05574524e+00, -1.41688764e-01,\n",
      "         6.00379258e-02],\n",
      "       [ 1.30659133e-01,  4.45417315e-01,  5.81637304e-03,\n",
      "        -1.39977169e+00, -4.62293655e-01,  4.67698216e-01,\n",
      "        -3.85256380e-01, -3.21679652e-01, -1.60284042e-01,\n",
      "         7.97422007e-02],\n",
      "       [-1.40056491e+00,  1.18335819e+00,  1.86443853e+00,\n",
      "        -5.44343330e-02,  2.65673310e-01, -1.51006460e-01,\n",
      "         4.84467089e-01, -1.53757620e+00, -1.81579316e+00,\n",
      "         1.71795237e+00],\n",
      "       [ 3.70892994e-02,  6.75080597e-01,  4.28865254e-02,\n",
      "         1.01429231e-01, -4.58399624e-01,  3.90187204e-01,\n",
      "        -7.71718398e-02, -7.70017087e-01, -7.38189697e-01,\n",
      "         5.20031989e-01],\n",
      "       [-1.93261039e+00,  1.91331804e+00,  1.22367692e+00,\n",
      "         1.08260667e+00, -3.47675048e-02,  1.81489825e-01,\n",
      "         3.90321493e-01, -1.10548794e+00, -2.00509763e+00,\n",
      "         1.92779958e+00],\n",
      "       [-4.47694689e-01, -1.47054985e-01, -3.15048039e-01,\n",
      "         3.29450704e-03, -4.59613532e-01, -4.02951866e-01,\n",
      "        -1.10553734e-01, -1.67504996e-01,  4.32948440e-01,\n",
      "         1.48769870e-01],\n",
      "       [-1.01820812e-01, -4.15833950e-01, -2.39636853e-01,\n",
      "        -9.68175054e-01, -2.17702940e-01, -2.54034549e-01,\n",
      "         2.56677330e-01,  5.35670221e-01, -2.32685596e-01,\n",
      "        -6.28280163e-01],\n",
      "       [ 1.23819485e-01, -5.04318662e-02, -4.40311491e-01,\n",
      "        -5.09301066e-01, -1.49349883e-01, -6.49230182e-02,\n",
      "         7.29810447e-02,  9.70465392e-02, -5.17300487e-01,\n",
      "         3.04652303e-01],\n",
      "       [ 2.04859376e-01,  3.84101063e-01,  2.16710031e-01,\n",
      "        -1.29405811e-01,  6.82922155e-02, -1.58609271e-01,\n",
      "        -8.94172043e-02,  3.20269674e-01, -7.66360993e-03,\n",
      "        -3.76313739e-02],\n",
      "       [-2.63091415e-01, -5.55128992e-01,  4.52796780e-02,\n",
      "        -1.22912896e+00, -5.02810776e-01,  2.70397186e-01,\n",
      "        -4.52986360e-01, -1.30729571e-01,  2.17742696e-01,\n",
      "        -1.11229502e-01],\n",
      "       [ 4.09550995e-01, -1.67379245e-01,  4.44229953e-02,\n",
      "         1.69212729e-01, -2.63386071e-01, -3.17273319e-01,\n",
      "         6.57617673e-02, -1.93802521e-01,  4.10219520e-01,\n",
      "         4.44358110e-01],\n",
      "       [ 6.71381578e-02, -1.58370677e-02, -4.15688455e-01,\n",
      "        -7.41729915e-01,  2.64620274e-01, -4.38215941e-01,\n",
      "         4.08877879e-01,  5.99209666e-01, -5.22573948e-01,\n",
      "        -6.26702070e-01]], dtype=float32), array([-1.0783292 ,  1.2077186 ,  1.0493453 ,  0.11826771, -0.0679343 ,\n",
      "        0.        ,  0.00634899, -1.1947397 , -1.0872293 ,  1.1331781 ],\n",
      "      dtype=float32), array([[-0.41159776],\n",
      "       [ 0.12562929],\n",
      "       [ 0.40166467],\n",
      "       [ 0.8791833 ],\n",
      "       [ 2.2449677 ],\n",
      "       [ 0.2442041 ],\n",
      "       [-2.3528054 ],\n",
      "       [-0.12970582],\n",
      "       [-0.4026892 ],\n",
      "       [ 0.73671687]], dtype=float32), array([1.0636123], dtype=float32)]\n"
     ]
    }
   ],
   "source": [
    "# 모델의 수식 확인하기\n",
    "print(model.get_weights())"
   ]
  },
  {
   "cell_type": "code",
   "execution_count": 9,
   "metadata": {},
   "outputs": [
    {
     "name": "stdout",
     "output_type": "stream",
     "text": [
      "Model: \"model\"\n",
      "_________________________________________________________________\n",
      "Layer (type)                 Output Shape              Param #   \n",
      "=================================================================\n",
      "input_1 (InputLayer)         [(None, 13)]              0         \n",
      "_________________________________________________________________\n",
      "dense (Dense)                (None, 10)                140       \n",
      "_________________________________________________________________\n",
      "dense_1 (Dense)              (None, 1)                 11        \n",
      "=================================================================\n",
      "Total params: 151\n",
      "Trainable params: 151\n",
      "Non-trainable params: 0\n",
      "_________________________________________________________________\n"
     ]
    }
   ],
   "source": [
    "model.summary()"
   ]
  }
 ],
 "metadata": {
  "kernelspec": {
   "display_name": "Python 3",
   "language": "python",
   "name": "python3"
  },
  "language_info": {
   "codemirror_mode": {
    "name": "ipython",
    "version": 3
   },
   "file_extension": ".py",
   "mimetype": "text/x-python",
   "name": "python",
   "nbconvert_exporter": "python",
   "pygments_lexer": "ipython3",
   "version": "3.7.7"
  }
 },
 "nbformat": 4,
 "nbformat_minor": 4
}
