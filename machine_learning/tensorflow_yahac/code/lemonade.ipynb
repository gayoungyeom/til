{
 "cells": [
  {
   "cell_type": "code",
   "execution_count": 1,
   "metadata": {},
   "outputs": [],
   "source": [
    "# 라이브러리 사용\n",
    "import tensorflow as tf\n",
    "import pandas as pd"
   ]
  },
  {
   "cell_type": "code",
   "execution_count": 2,
   "metadata": {},
   "outputs": [],
   "source": [
    "# 데이터 준비하기\n",
    "url = 'https://raw.githubusercontent.com/blackdew/tensorflow1/master/csv/lemonade.csv';\n",
    "data = pd.read_csv(url)"
   ]
  },
  {
   "cell_type": "code",
   "execution_count": 3,
   "metadata": {},
   "outputs": [],
   "source": [
    "# 종속변수, 독립변수\n",
    "independent = data[['온도']]\n",
    "dependent = data[['판매량']]"
   ]
  },
  {
   "cell_type": "code",
   "execution_count": 4,
   "metadata": {},
   "outputs": [],
   "source": [
    "# 모델 만들기\n",
    "x = tf.keras.layers.Input(shape=[1]) #독립변수의 cloumn의 개수가 1이기 떄문\n",
    "y = tf.keras.layers.Dense(1)(x) #종속변수의 cloumn의 개수가 1이기 때문\n",
    "model = tf.keras.models.Model(x, y)\n",
    "model.compile(loss='mse')"
   ]
  },
  {
   "cell_type": "code",
   "execution_count": 5,
   "metadata": {},
   "outputs": [
    {
     "name": "stdout",
     "output_type": "stream",
     "text": [
      "Train on 6 samples\n",
      "Epoch 1/10\n",
      "6/6 [==============================] - 1s 126ms/sample - loss: 5657.1187\n",
      "Epoch 2/10\n",
      "6/6 [==============================] - 0s 333us/sample - loss: 5645.9165\n",
      "Epoch 3/10\n",
      "6/6 [==============================] - 0s 670us/sample - loss: 5637.7993\n",
      "Epoch 4/10\n",
      "6/6 [==============================] - 0s 532us/sample - loss: 5631.0103\n",
      "Epoch 5/10\n",
      "6/6 [==============================] - 0s 665us/sample - loss: 5624.9868\n",
      "Epoch 6/10\n",
      "6/6 [==============================] - 0s 666us/sample - loss: 5619.4722\n",
      "Epoch 7/10\n",
      "6/6 [==============================] - 0s 667us/sample - loss: 5614.3188\n",
      "Epoch 8/10\n",
      "6/6 [==============================] - 0s 659us/sample - loss: 5609.4390\n",
      "Epoch 9/10\n",
      "6/6 [==============================] - 0s 648us/sample - loss: 5604.7695\n",
      "Epoch 10/10\n",
      "6/6 [==============================] - 0s 714us/sample - loss: 5600.2700\n"
     ]
    },
    {
     "data": {
      "text/plain": [
       "<tensorflow.python.keras.callbacks.History at 0x290aeea3488>"
      ]
     },
     "execution_count": 5,
     "metadata": {},
     "output_type": "execute_result"
    }
   ],
   "source": [
    "# 모델 학습하기\n",
    "model.fit(independent, dependent, epochs=10) #모델을 10번 학습 시키기\n",
    "model.fit(independent, dependent, epochs=100, verbose=0) #학습 과정을 화면에 출력하지 않고 100번 학습 시키기"
   ]
  },
  {
   "cell_type": "code",
   "execution_count": 6,
   "metadata": {},
   "outputs": [
    {
     "data": {
      "text/plain": [
       "array([[-48.45715 ],\n",
       "       [-50.885952],\n",
       "       [-53.31475 ],\n",
       "       [-55.74355 ],\n",
       "       [-58.17235 ],\n",
       "       [-60.60115 ]], dtype=float32)"
      ]
     },
     "execution_count": 6,
     "metadata": {},
     "output_type": "execute_result"
    }
   ],
   "source": [
    "# 모델 확인하기\n",
    "model.predict(dependent)"
   ]
  },
  {
   "cell_type": "code",
   "execution_count": 7,
   "metadata": {},
   "outputs": [
    {
     "data": {
      "text/plain": [
       "array([[-18.09715]], dtype=float32)"
      ]
     },
     "execution_count": 7,
     "metadata": {},
     "output_type": "execute_result"
    }
   ],
   "source": [
    "# 레몬에이드 판매량 예측하기\n",
    "model.predict([[15]]) #온도가 15도 일때 판매량 예측"
   ]
  }
 ],
 "metadata": {
  "kernelspec": {
   "display_name": "Python 3",
   "language": "python",
   "name": "python3"
  },
  "language_info": {
   "codemirror_mode": {
    "name": "ipython",
    "version": 3
   },
   "file_extension": ".py",
   "mimetype": "text/x-python",
   "name": "python",
   "nbconvert_exporter": "python",
   "pygments_lexer": "ipython3",
   "version": "3.7.7"
  }
 },
 "nbformat": 4,
 "nbformat_minor": 4
}
